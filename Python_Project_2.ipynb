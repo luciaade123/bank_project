{
 "cells": [
  {
   "cell_type": "markdown",
   "id": "180cb581-319c-42a0-8ee8-3e4c4f82e5e3",
   "metadata": {},
   "source": [
    "Name: Lucia Adeola\n",
    "Python Project 2\n",
    "PostgreSQL Database Connector: Bank Project\n",
    "\n",
    "Displayed in this notebook are the following:\n",
    "\n",
    "Part 1: Establish Connection\n",
    "- Defined function to establish connection to the bank database\n",
    "- secure login credentials using a vault file\n",
    "- sample queries to verify and test connection\n",
    "- error handling for failed connection\n",
    "\n",
    "Part 2: Retrieve Monthly Transactions\n",
    "\t•\tDefined a function to retrieve all transactions for a given year and month.\n",
    "\t•\tUsed SQL with EXTRACT(YEAR FROM txn_date) and EXTRACT(MONTH FROM txn_date) to filter transactions.\n",
    "\t•\tIf no data is found, returned a dummy row with -1 values.\n",
    "\t•\tDropped the account_id column from the output.\n",
    "\t•\tTested with:\n",
    "\t•\tValid input \n",
    "\t•\tInvalid input \n",
    "    \n",
    "Part 3: BankDB Python Class\n",
    "\t•\tBuilt a BankDB class with three methods:\n",
    "\t•\t__init__() — connects to the database using the vault file.\n",
    "\t•\tget_monthly_transactions(year, month) — retrieves filtered data using SQL.\n",
    "\t•\ttransactions_barplot(year, month) — generates a bar plot of total daily transaction amounts.\n",
    "\t•\tVerified the class works by:\n",
    "\t•\tCreating an instance of the class.\n",
    "\t•\tCalling the barplot method and checking the plot display.\n",
    "\t•\t error handling "
   ]
  },
  {
   "cell_type": "code",
   "execution_count": 32,
   "id": "3059ae23-6546-474d-b471-bc81f84dcdbc",
   "metadata": {},
   "outputs": [],
   "source": [
    "#import psycopg2\n",
    "from sqlalchemy import create_engine\n",
    "import psycopg2\n",
    "\n",
    "#we will want Pandas for the data frame structure\n",
    "import pandas as pd"
   ]
  },
  {
   "cell_type": "code",
   "execution_count": 33,
   "id": "3c1f8056-709d-4a09-bd25-c6782aae8d7f",
   "metadata": {},
   "outputs": [],
   "source": [
    "#import my  connection function\n",
    "from my_db_connection import connect_to_db"
   ]
  },
  {
   "cell_type": "code",
   "execution_count": 34,
   "id": "396a7785-7c71-4d11-a1c9-d06fad69e046",
   "metadata": {},
   "outputs": [
    {
     "name": "stdout",
     "output_type": "stream",
     "text": [
      "Username: pat\n",
      "Password: MyPatPass2024!\n"
     ]
    }
   ],
   "source": [
    "#test vault.txt\n",
    "conn = connect_to_db(\"vault.txt\")"
   ]
  },
  {
   "cell_type": "code",
   "execution_count": 35,
   "id": "238c9500-570d-4a72-bdbc-d17e54e717a3",
   "metadata": {},
   "outputs": [
    {
     "name": "stderr",
     "output_type": "stream",
     "text": [
      "/var/folders/xv/55j5859j0jdcbldqcylh9j4m0000gn/T/ipykernel_89612/421510635.py:2: UserWarning: pandas only supports SQLAlchemy connectable (engine/connection) or database string URI or sqlite3 DBAPI2 connection. Other DBAPI2 objects are not tested. Please consider using SQLAlchemy.\n",
      "  df = pd.read_sql(\"SELECT * FROM account LIMIT 5;\", conn)\n"
     ]
    },
    {
     "data": {
      "text/html": [
       "<div>\n",
       "<style scoped>\n",
       "    .dataframe tbody tr th:only-of-type {\n",
       "        vertical-align: middle;\n",
       "    }\n",
       "\n",
       "    .dataframe tbody tr th {\n",
       "        vertical-align: top;\n",
       "    }\n",
       "\n",
       "    .dataframe thead th {\n",
       "        text-align: right;\n",
       "    }\n",
       "</style>\n",
       "<table border=\"1\" class=\"dataframe\">\n",
       "  <thead>\n",
       "    <tr style=\"text-align: right;\">\n",
       "      <th></th>\n",
       "      <th>account_id</th>\n",
       "      <th>product_cd</th>\n",
       "      <th>cust_id</th>\n",
       "      <th>open_date</th>\n",
       "      <th>close_date</th>\n",
       "      <th>last_activity_date</th>\n",
       "      <th>status</th>\n",
       "      <th>open_branch_id</th>\n",
       "      <th>open_emp_id</th>\n",
       "      <th>avail_balance</th>\n",
       "      <th>pending_balance</th>\n",
       "      <th>trial104</th>\n",
       "    </tr>\n",
       "  </thead>\n",
       "  <tbody>\n",
       "    <tr>\n",
       "      <th>0</th>\n",
       "      <td>1</td>\n",
       "      <td>CHK</td>\n",
       "      <td>1</td>\n",
       "      <td>2000-01-15</td>\n",
       "      <td>None</td>\n",
       "      <td>2005-01-04</td>\n",
       "      <td>ACTIVE</td>\n",
       "      <td>2</td>\n",
       "      <td>10</td>\n",
       "      <td>1057.75</td>\n",
       "      <td>1057.75</td>\n",
       "      <td>T</td>\n",
       "    </tr>\n",
       "    <tr>\n",
       "      <th>1</th>\n",
       "      <td>2</td>\n",
       "      <td>SAV</td>\n",
       "      <td>1</td>\n",
       "      <td>2000-01-15</td>\n",
       "      <td>None</td>\n",
       "      <td>2004-12-19</td>\n",
       "      <td>ACTIVE</td>\n",
       "      <td>2</td>\n",
       "      <td>10</td>\n",
       "      <td>500.00</td>\n",
       "      <td>500.00</td>\n",
       "      <td>T</td>\n",
       "    </tr>\n",
       "    <tr>\n",
       "      <th>2</th>\n",
       "      <td>3</td>\n",
       "      <td>CD</td>\n",
       "      <td>1</td>\n",
       "      <td>2004-06-30</td>\n",
       "      <td>None</td>\n",
       "      <td>2004-06-30</td>\n",
       "      <td>ACTIVE</td>\n",
       "      <td>2</td>\n",
       "      <td>10</td>\n",
       "      <td>3000.00</td>\n",
       "      <td>3000.00</td>\n",
       "      <td>T</td>\n",
       "    </tr>\n",
       "    <tr>\n",
       "      <th>3</th>\n",
       "      <td>4</td>\n",
       "      <td>CHK</td>\n",
       "      <td>2</td>\n",
       "      <td>2001-03-12</td>\n",
       "      <td>None</td>\n",
       "      <td>2004-12-27</td>\n",
       "      <td>ACTIVE</td>\n",
       "      <td>2</td>\n",
       "      <td>10</td>\n",
       "      <td>2258.02</td>\n",
       "      <td>2258.02</td>\n",
       "      <td>T</td>\n",
       "    </tr>\n",
       "    <tr>\n",
       "      <th>4</th>\n",
       "      <td>5</td>\n",
       "      <td>SAV</td>\n",
       "      <td>2</td>\n",
       "      <td>2001-03-12</td>\n",
       "      <td>None</td>\n",
       "      <td>2004-12-11</td>\n",
       "      <td>ACTIVE</td>\n",
       "      <td>2</td>\n",
       "      <td>10</td>\n",
       "      <td>200.00</td>\n",
       "      <td>200.00</td>\n",
       "      <td>T</td>\n",
       "    </tr>\n",
       "  </tbody>\n",
       "</table>\n",
       "</div>"
      ],
      "text/plain": [
       "   account_id product_cd  cust_id   open_date close_date last_activity_date  \\\n",
       "0           1        CHK        1  2000-01-15       None         2005-01-04   \n",
       "1           2        SAV        1  2000-01-15       None         2004-12-19   \n",
       "2           3         CD        1  2004-06-30       None         2004-06-30   \n",
       "3           4        CHK        2  2001-03-12       None         2004-12-27   \n",
       "4           5        SAV        2  2001-03-12       None         2004-12-11   \n",
       "\n",
       "   status  open_branch_id  open_emp_id  avail_balance  pending_balance  \\\n",
       "0  ACTIVE               2           10        1057.75          1057.75   \n",
       "1  ACTIVE               2           10         500.00           500.00   \n",
       "2  ACTIVE               2           10        3000.00          3000.00   \n",
       "3  ACTIVE               2           10        2258.02          2258.02   \n",
       "4  ACTIVE               2           10         200.00           200.00   \n",
       "\n",
       "  trial104  \n",
       "0        T  \n",
       "1        T  \n",
       "2        T  \n",
       "3        T  \n",
       "4        T  "
      ]
     },
     "execution_count": 35,
     "metadata": {},
     "output_type": "execute_result"
    }
   ],
   "source": [
    "\n",
    "#load data account table from bank db\n",
    "df = pd.read_sql(\"SELECT * FROM account LIMIT 5;\", conn)\n",
    "df.head()"
   ]
  },
  {
   "cell_type": "markdown",
   "id": "2e3c3d31-3b4c-4b01-8e59-a790a515d274",
   "metadata": {},
   "source": [
    "#testing with an invalid vault file name\n",
    "invalid_conn = connect_to_db(\"bad_vault.txt\")\n",
    "\n",
    "we  recieve this error\n",
    "FileNotFoundError: [Errno 2] No such file or directory: 'bad_vault.txt'"
   ]
  },
  {
   "cell_type": "code",
   "execution_count": 36,
   "id": "81032718-9c58-45f6-9cb3-2c97ebe1f80a",
   "metadata": {},
   "outputs": [],
   "source": [
    "#import monthly transactions function\n",
    "from get_my_monthly_transactions import get_month_transactions"
   ]
  },
  {
   "cell_type": "code",
   "execution_count": 37,
   "id": "6ec08683-3663-41b3-932c-89e093041b69",
   "metadata": {},
   "outputs": [
    {
     "name": "stderr",
     "output_type": "stream",
     "text": [
      "/var/folders/xv/55j5859j0jdcbldqcylh9j4m0000gn/T/ipykernel_89612/431457223.py:1: UserWarning: pandas only supports SQLAlchemy connectable (engine/connection) or database string URI or sqlite3 DBAPI2 connection. Other DBAPI2 objects are not tested. Please consider using SQLAlchemy.\n",
      "  pd.read_sql(\"SELECT * FROM transaction LIMIT 5;\", conn)\n"
     ]
    },
    {
     "data": {
      "text/html": [
       "<div>\n",
       "<style scoped>\n",
       "    .dataframe tbody tr th:only-of-type {\n",
       "        vertical-align: middle;\n",
       "    }\n",
       "\n",
       "    .dataframe tbody tr th {\n",
       "        vertical-align: top;\n",
       "    }\n",
       "\n",
       "    .dataframe thead th {\n",
       "        text-align: right;\n",
       "    }\n",
       "</style>\n",
       "<table border=\"1\" class=\"dataframe\">\n",
       "  <thead>\n",
       "    <tr style=\"text-align: right;\">\n",
       "      <th></th>\n",
       "      <th>txn_id</th>\n",
       "      <th>txn_date</th>\n",
       "      <th>account_id</th>\n",
       "      <th>txn_type_cd</th>\n",
       "      <th>amount</th>\n",
       "      <th>teller_emp_id</th>\n",
       "      <th>execution_branch_id</th>\n",
       "      <th>funds_avail_date</th>\n",
       "      <th>trial104</th>\n",
       "    </tr>\n",
       "  </thead>\n",
       "  <tbody>\n",
       "    <tr>\n",
       "      <th>0</th>\n",
       "      <td>1</td>\n",
       "      <td>2000-01-15</td>\n",
       "      <td>1</td>\n",
       "      <td>CDT</td>\n",
       "      <td>100.0</td>\n",
       "      <td>None</td>\n",
       "      <td>None</td>\n",
       "      <td>2000-01-15</td>\n",
       "      <td>T</td>\n",
       "    </tr>\n",
       "    <tr>\n",
       "      <th>1</th>\n",
       "      <td>2</td>\n",
       "      <td>2000-01-15</td>\n",
       "      <td>2</td>\n",
       "      <td>CDT</td>\n",
       "      <td>100.0</td>\n",
       "      <td>None</td>\n",
       "      <td>None</td>\n",
       "      <td>2000-01-15</td>\n",
       "      <td>T</td>\n",
       "    </tr>\n",
       "    <tr>\n",
       "      <th>2</th>\n",
       "      <td>3</td>\n",
       "      <td>2004-06-30</td>\n",
       "      <td>3</td>\n",
       "      <td>CDT</td>\n",
       "      <td>100.0</td>\n",
       "      <td>None</td>\n",
       "      <td>None</td>\n",
       "      <td>2004-06-30</td>\n",
       "      <td>T</td>\n",
       "    </tr>\n",
       "    <tr>\n",
       "      <th>3</th>\n",
       "      <td>4</td>\n",
       "      <td>2001-03-12</td>\n",
       "      <td>4</td>\n",
       "      <td>CDT</td>\n",
       "      <td>100.0</td>\n",
       "      <td>None</td>\n",
       "      <td>None</td>\n",
       "      <td>2001-03-12</td>\n",
       "      <td>T</td>\n",
       "    </tr>\n",
       "    <tr>\n",
       "      <th>4</th>\n",
       "      <td>5</td>\n",
       "      <td>2001-03-12</td>\n",
       "      <td>5</td>\n",
       "      <td>CDT</td>\n",
       "      <td>100.0</td>\n",
       "      <td>None</td>\n",
       "      <td>None</td>\n",
       "      <td>2001-03-12</td>\n",
       "      <td>T</td>\n",
       "    </tr>\n",
       "  </tbody>\n",
       "</table>\n",
       "</div>"
      ],
      "text/plain": [
       "   txn_id   txn_date  account_id txn_type_cd  amount teller_emp_id  \\\n",
       "0       1 2000-01-15           1         CDT   100.0          None   \n",
       "1       2 2000-01-15           2         CDT   100.0          None   \n",
       "2       3 2004-06-30           3         CDT   100.0          None   \n",
       "3       4 2001-03-12           4         CDT   100.0          None   \n",
       "4       5 2001-03-12           5         CDT   100.0          None   \n",
       "\n",
       "  execution_branch_id funds_avail_date trial104  \n",
       "0                None       2000-01-15        T  \n",
       "1                None       2000-01-15        T  \n",
       "2                None       2004-06-30        T  \n",
       "3                None       2001-03-12        T  \n",
       "4                None       2001-03-12        T  "
      ]
     },
     "execution_count": 37,
     "metadata": {},
     "output_type": "execute_result"
    }
   ],
   "source": [
    "pd.read_sql(\"SELECT * FROM transaction LIMIT 5;\", conn)"
   ]
  },
  {
   "cell_type": "code",
   "execution_count": 38,
   "id": "2f4b8324-f36e-422d-b5b3-005bdcc28f03",
   "metadata": {},
   "outputs": [
    {
     "name": "stderr",
     "output_type": "stream",
     "text": [
      "/Users/lucia/Desktop/DSE5002OM/Project 2/get_my_monthly_transactions.py:36: UserWarning: pandas only supports SQLAlchemy connectable (engine/connection) or database string URI or sqlite3 DBAPI2 connection. Other DBAPI2 objects are not tested. Please consider using SQLAlchemy.\n",
      "  transactions_df = pd.read_sql(query, conn, params=(year, month))\n"
     ]
    },
    {
     "data": {
      "text/html": [
       "<div>\n",
       "<style scoped>\n",
       "    .dataframe tbody tr th:only-of-type {\n",
       "        vertical-align: middle;\n",
       "    }\n",
       "\n",
       "    .dataframe tbody tr th {\n",
       "        vertical-align: top;\n",
       "    }\n",
       "\n",
       "    .dataframe thead th {\n",
       "        text-align: right;\n",
       "    }\n",
       "</style>\n",
       "<table border=\"1\" class=\"dataframe\">\n",
       "  <thead>\n",
       "    <tr style=\"text-align: right;\">\n",
       "      <th></th>\n",
       "      <th>txn_id</th>\n",
       "      <th>txn_date</th>\n",
       "      <th>txn_type_cd</th>\n",
       "      <th>amount</th>\n",
       "      <th>teller_emp_id</th>\n",
       "      <th>execution_branch_id</th>\n",
       "      <th>funds_avail_date</th>\n",
       "      <th>trial104</th>\n",
       "    </tr>\n",
       "  </thead>\n",
       "  <tbody>\n",
       "    <tr>\n",
       "      <th>0</th>\n",
       "      <td>1</td>\n",
       "      <td>2000-01-15</td>\n",
       "      <td>CDT</td>\n",
       "      <td>100.0</td>\n",
       "      <td>None</td>\n",
       "      <td>None</td>\n",
       "      <td>2000-01-15</td>\n",
       "      <td>T</td>\n",
       "    </tr>\n",
       "    <tr>\n",
       "      <th>1</th>\n",
       "      <td>2</td>\n",
       "      <td>2000-01-15</td>\n",
       "      <td>CDT</td>\n",
       "      <td>100.0</td>\n",
       "      <td>None</td>\n",
       "      <td>None</td>\n",
       "      <td>2000-01-15</td>\n",
       "      <td>T</td>\n",
       "    </tr>\n",
       "    <tr>\n",
       "      <th>2</th>\n",
       "      <td>9</td>\n",
       "      <td>2000-01-15</td>\n",
       "      <td>CDT</td>\n",
       "      <td>100.0</td>\n",
       "      <td>None</td>\n",
       "      <td>None</td>\n",
       "      <td>2000-01-15</td>\n",
       "      <td>T</td>\n",
       "    </tr>\n",
       "  </tbody>\n",
       "</table>\n",
       "</div>"
      ],
      "text/plain": [
       "   txn_id   txn_date txn_type_cd  amount teller_emp_id execution_branch_id  \\\n",
       "0       1 2000-01-15         CDT   100.0          None                None   \n",
       "1       2 2000-01-15         CDT   100.0          None                None   \n",
       "2       9 2000-01-15         CDT   100.0          None                None   \n",
       "\n",
       "  funds_avail_date trial104  \n",
       "0       2000-01-15        T  \n",
       "1       2000-01-15        T  \n",
       "2       2000-01-15        T  "
      ]
     },
     "execution_count": 38,
     "metadata": {},
     "output_type": "execute_result"
    }
   ],
   "source": [
    "#test our transaction function\n",
    "#valid year and date\n",
    "\n",
    "transactions_df = get_month_transactions(conn, 2000,1)\n",
    "transactions_df.head()"
   ]
  },
  {
   "cell_type": "code",
   "execution_count": 39,
   "id": "b83694db-5e28-434b-b5cc-0e5ea3312143",
   "metadata": {},
   "outputs": [
    {
     "name": "stdout",
     "output_type": "stream",
     "text": [
      "no data found for specified date, returning dummy row.\n"
     ]
    },
    {
     "name": "stderr",
     "output_type": "stream",
     "text": [
      "/Users/lucia/Desktop/DSE5002OM/Project 2/get_my_monthly_transactions.py:36: UserWarning: pandas only supports SQLAlchemy connectable (engine/connection) or database string URI or sqlite3 DBAPI2 connection. Other DBAPI2 objects are not tested. Please consider using SQLAlchemy.\n",
      "  transactions_df = pd.read_sql(query, conn, params=(year, month))\n"
     ]
    },
    {
     "data": {
      "text/html": [
       "<div>\n",
       "<style scoped>\n",
       "    .dataframe tbody tr th:only-of-type {\n",
       "        vertical-align: middle;\n",
       "    }\n",
       "\n",
       "    .dataframe tbody tr th {\n",
       "        vertical-align: top;\n",
       "    }\n",
       "\n",
       "    .dataframe thead th {\n",
       "        text-align: right;\n",
       "    }\n",
       "</style>\n",
       "<table border=\"1\" class=\"dataframe\">\n",
       "  <thead>\n",
       "    <tr style=\"text-align: right;\">\n",
       "      <th></th>\n",
       "      <th>txn_id</th>\n",
       "      <th>txn_date</th>\n",
       "      <th>amount</th>\n",
       "    </tr>\n",
       "  </thead>\n",
       "  <tbody>\n",
       "    <tr>\n",
       "      <th>0</th>\n",
       "      <td>-1</td>\n",
       "      <td>-1</td>\n",
       "      <td>-1</td>\n",
       "    </tr>\n",
       "  </tbody>\n",
       "</table>\n",
       "</div>"
      ],
      "text/plain": [
       "   txn_id  txn_date  amount\n",
       "0      -1        -1      -1"
      ]
     },
     "execution_count": 39,
     "metadata": {},
     "output_type": "execute_result"
    }
   ],
   "source": [
    "#test our transaction function\n",
    "#invalid year and date\n",
    "\n",
    "transactions_df = get_month_transactions(conn, 2020,1)\n",
    "transactions_df.head()"
   ]
  },
  {
   "cell_type": "code",
   "execution_count": 40,
   "id": "352e77fd-86bf-4a4b-b574-7c4e22225e8e",
   "metadata": {},
   "outputs": [
    {
     "name": "stdout",
     "output_type": "stream",
     "text": [
      "successfully connected to database\n"
     ]
    }
   ],
   "source": [
    "#test my class file for connection to db(step 5)\n",
    "from my_bank_db import BankDB\n",
    "\n",
    "check_bank = BankDB(\"vault.txt\")"
   ]
  },
  {
   "cell_type": "code",
   "execution_count": 41,
   "id": "7cb41e6b-2556-4d9d-b81e-37de73925128",
   "metadata": {},
   "outputs": [
    {
     "name": "stderr",
     "output_type": "stream",
     "text": [
      "/Users/lucia/Desktop/DSE5002OM/Project 2/my_bank_db.py:45: UserWarning: pandas only supports SQLAlchemy connectable (engine/connection) or database string URI or sqlite3 DBAPI2 connection. Other DBAPI2 objects are not tested. Please consider using SQLAlchemy.\n",
      "  transactions_df = pd.read_sql(query, self.conn, params=(year, month))\n"
     ]
    },
    {
     "data": {
      "text/html": [
       "<div>\n",
       "<style scoped>\n",
       "    .dataframe tbody tr th:only-of-type {\n",
       "        vertical-align: middle;\n",
       "    }\n",
       "\n",
       "    .dataframe tbody tr th {\n",
       "        vertical-align: top;\n",
       "    }\n",
       "\n",
       "    .dataframe thead th {\n",
       "        text-align: right;\n",
       "    }\n",
       "</style>\n",
       "<table border=\"1\" class=\"dataframe\">\n",
       "  <thead>\n",
       "    <tr style=\"text-align: right;\">\n",
       "      <th></th>\n",
       "      <th>txn_id</th>\n",
       "      <th>txn_date</th>\n",
       "      <th>txn_type_cd</th>\n",
       "      <th>amount</th>\n",
       "      <th>teller_emp_id</th>\n",
       "      <th>execution_branch_id</th>\n",
       "      <th>funds_avail_date</th>\n",
       "      <th>trial104</th>\n",
       "    </tr>\n",
       "  </thead>\n",
       "  <tbody>\n",
       "    <tr>\n",
       "      <th>0</th>\n",
       "      <td>1</td>\n",
       "      <td>2000-01-15</td>\n",
       "      <td>CDT</td>\n",
       "      <td>100.0</td>\n",
       "      <td>None</td>\n",
       "      <td>None</td>\n",
       "      <td>2000-01-15</td>\n",
       "      <td>T</td>\n",
       "    </tr>\n",
       "    <tr>\n",
       "      <th>1</th>\n",
       "      <td>2</td>\n",
       "      <td>2000-01-15</td>\n",
       "      <td>CDT</td>\n",
       "      <td>100.0</td>\n",
       "      <td>None</td>\n",
       "      <td>None</td>\n",
       "      <td>2000-01-15</td>\n",
       "      <td>T</td>\n",
       "    </tr>\n",
       "    <tr>\n",
       "      <th>2</th>\n",
       "      <td>9</td>\n",
       "      <td>2000-01-15</td>\n",
       "      <td>CDT</td>\n",
       "      <td>100.0</td>\n",
       "      <td>None</td>\n",
       "      <td>None</td>\n",
       "      <td>2000-01-15</td>\n",
       "      <td>T</td>\n",
       "    </tr>\n",
       "  </tbody>\n",
       "</table>\n",
       "</div>"
      ],
      "text/plain": [
       "   txn_id   txn_date txn_type_cd  amount teller_emp_id execution_branch_id  \\\n",
       "0       1 2000-01-15         CDT   100.0          None                None   \n",
       "1       2 2000-01-15         CDT   100.0          None                None   \n",
       "2       9 2000-01-15         CDT   100.0          None                None   \n",
       "\n",
       "  funds_avail_date trial104  \n",
       "0       2000-01-15        T  \n",
       "1       2000-01-15        T  \n",
       "2       2000-01-15        T  "
      ]
     },
     "execution_count": 41,
     "metadata": {},
     "output_type": "execute_result"
    }
   ],
   "source": [
    "#test my class method get_monthly_transactions\n",
    "transactions_df = bank.get_monthly_transactions(2000,1)\n",
    "transactions_df.head()"
   ]
  },
  {
   "cell_type": "code",
   "execution_count": 42,
   "id": "63fc11f3-e030-4a3b-ab62-e2b481c80234",
   "metadata": {},
   "outputs": [
    {
     "name": "stderr",
     "output_type": "stream",
     "text": [
      "/Users/lucia/Desktop/DSE5002OM/Project 2/my_bank_db.py:45: UserWarning: pandas only supports SQLAlchemy connectable (engine/connection) or database string URI or sqlite3 DBAPI2 connection. Other DBAPI2 objects are not tested. Please consider using SQLAlchemy.\n",
      "  transactions_df = pd.read_sql(query, self.conn, params=(year, month))\n"
     ]
    },
    {
     "data": {
      "image/png": "[encoded data removed]",
      "text/plain": [
       "<Figure size 1000x500 with 1 Axes>"
      ]
     },
     "metadata": {},
     "output_type": "display_data"
    }
   ],
   "source": [
    "#create my bar plot of total transactions per day for month/year\n",
    "check_bank.transactions_barplot(2000,1)"
   ]
  },
  {
   "cell_type": "code",
   "execution_count": null,
   "id": "640105c2-9597-4e1b-8fb8-b6ece79ba72e",
   "metadata": {},
   "outputs": [],
   "source": []
  }
 ],
 "metadata": {
  "kernelspec": {
   "display_name": "Python [conda env:base]",
   "language": "python",
   "name": "conda-base-py"
  },
  "language_info": {
   "codemirror_mode": {
    "name": "ipython",
    "version": 3
   },
   "file_extension": ".py",
   "mimetype": "text/x-python",
   "name": "python",
   "nbconvert_exporter": "python",
   "pygments_lexer": "ipython3",
   "version": "3.12.7"
  }
 },
 "nbformat": 4,
 "nbformat_minor": 5
}
